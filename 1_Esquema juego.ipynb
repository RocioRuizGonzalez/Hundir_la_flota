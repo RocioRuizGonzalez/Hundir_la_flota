{
 "cells": [
  {
   "cell_type": "markdown",
   "metadata": {},
   "source": [
    "Flujo juego: \n",
    "\n",
    "Saludar usuario\n",
    "Generar tableros \n",
    "Pedir input (ad infinitum: while loop con opción de salir , o con turnos: while loop con contador)\n",
    "Chequear donde impactó\n",
    "Actualizar tablero (panda ?)\n",
    "Chequear si se ha ganado el juego\n",
    "Pedir input o terminar el juego\n",
    "\n",
    "\n",
    "Flujo Codigo : \n",
    "\n",
    "Definir clases\n",
    "Barcos\n",
    "Tableros\n",
    "Numero de turnos\n",
    "\n",
    "Función main : \n",
    "\n",
    "Seguir jugando o salir del juego (While loop que pide constantement un input y actualiza el tablero a cada input, se termina con numero de turnos?)\n",
    "Saludar al usuario (Sin loop, con input inicial, opción de salir)\n",
    "Input de usuario coordenadas (input, str para salir del juego, definir try/except con str en input de coordenadas)\n",
    "\n",
    "Definir funciones/clases:\n",
    "\n",
    "\n",
    "1. Función para generar tablero visible, tablero escondido (una vez por juego)\n",
    "2. Función para posicionar barcos aleatoriamente (una sola vez por juego)\n",
    "3. Función para marcar tiro en tablero (con mensajes e input de salir posible ?)\n",
    "   Prever errores : input de strings, filas/columnas fuera de range, input vacios\n",
    "4. Función para chequear barcos hundidos y actualizar con impactos (while loop que se chequea al final de cada función?)\n",
    "\n"
   ]
  },
  {
   "cell_type": "code",
   "execution_count": 3,
   "metadata": {},
   "outputs": [
    {
     "name": "stdout",
     "output_type": "stream",
     "text": [
      "pygame 2.1.2 (SDL 2.0.18, Python 3.10.7)\n",
      "Hello from the pygame community. https://www.pygame.org/contribute.html\n"
     ]
    }
   ],
   "source": [
    "#Definir clase del juego con las sub-clases/funciones: \n",
    "\n",
    "import numpy as np\n",
    "import random\n",
    "import sys\n",
    "import pygame\n",
    "\n",
    "def HundirLaFlota():\n",
    "\n",
    "\n",
    "    #Constantes como el número de barcos, el número de tableros, etc.\n",
    "    def __init__(self, barcos = 0):\n",
    "        pass\n",
    "\n",
    "    # Funcion para generar tableros, imprimirlos por pantalla\n",
    "    def tablero(self, dimensiones = 0):\n",
    "        pass\n",
    "\n",
    "     #Iniciar el posicionamiento de barcos en los tableros de máquina y jugador\n",
    "    def generarbarcos(self):\n",
    "        pass\n",
    "\n",
    "    #Funciona con input de usuario, extrae coordenadas, comprueba su ocupación y marca el lugar del tiro en el tablero. \n",
    "    def marcartiro(self):\n",
    "        pass\n",
    "    #A evaluar, quizás sea mejor dejarlo como while y no como clase?\n",
    "\n",
    "    # Verificación de impactos en ambos tableros.\n",
    "    def verificaciontablero(self):\n",
    "        pass \n",
    "\n",
    "\n",
    "\n"
   ]
  },
  {
   "cell_type": "code",
   "execution_count": null,
   "metadata": {},
   "outputs": [],
   "source": []
  }
 ],
 "metadata": {
  "kernelspec": {
   "display_name": "Python 3.10.7 64-bit",
   "language": "python",
   "name": "python3"
  },
  "language_info": {
   "codemirror_mode": {
    "name": "ipython",
    "version": 3
   },
   "file_extension": ".py",
   "mimetype": "text/x-python",
   "name": "python",
   "nbconvert_exporter": "python",
   "pygments_lexer": "ipython3",
   "version": "3.10.7"
  },
  "orig_nbformat": 4,
  "vscode": {
   "interpreter": {
    "hash": "aee8b7b246df8f9039afb4144a1f6fd8d2ca17a180786b69acc140d282b71a49"
   }
  }
 },
 "nbformat": 4,
 "nbformat_minor": 2
}
