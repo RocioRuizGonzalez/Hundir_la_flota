{
 "cells": [
  {
   "cell_type": "markdown",
   "metadata": {},
   "source": [
    "![imagen](hundir-la-flota-juego-de-mesa.jpg)"
   ]
  },
  {
   "cell_type": "markdown",
   "metadata": {},
   "source": [
    "Leyenda:\n",
    "1. \".\" = agua o espacio vacío\n",
    "2. \"O\" = parte del barco\n",
    "3. \"X\" = parte del barco que le ha dado una bala\n",
    "4. \"#\" = agua que recibió un disparo de bala, fallando porque no le ha dado a ningún barco"
   ]
  },
  {
   "cell_type": "code",
   "execution_count": 3,
   "metadata": {},
   "outputs": [],
   "source": [
    "# Variable para el tablero\n",
    "tablero = [[]]\n",
    "\n",
    "# Variable  para el tamaño de la tablero\n",
    "tam_tablero = 10\n",
    "\n",
    "# Variable para el número de barcos a colocar\n",
    "num_of_ships = 2\n",
    "\n",
    "# Variable para balas restantes\n",
    "balas_rest = 50\n",
    "\n",
    "# Variable para el fin de la partida\n",
    "game_over = False\n",
    "\n",
    "# Variable para número de barcos hundidos\n",
    "num_of_ships_sunk = 0\n",
    "\n",
    "# Variable para posiciones de los barcos\n",
    "pos_of_ships = [[]]\n",
    "\n",
    "# Variable para el alfabeto\n",
    "alphabet = \"ABCDEFGHIJKLMNOPQRSTUVWXYZ\""
   ]
  },
  {
   "cell_type": "markdown",
   "metadata": {},
   "source": [
    "## PARTES DE ANTONIO AMBROSIO"
   ]
  },
  {
   "cell_type": "markdown",
   "metadata": {},
   "source": [
    "**Termina la partida/Quit Game** "
   ]
  },
  {
   "cell_type": "code",
   "execution_count": 2,
   "metadata": {},
   "outputs": [],
   "source": [
    "from random import randint\n",
    "import numpy as np\n",
    "import pandas as pd"
   ]
  },
  {
   "cell_type": "markdown",
   "metadata": {},
   "source": [
    "**Función para Fin de Partida/Game Over:** "
   ]
  },
  {
   "cell_type": "code",
   "execution_count": 4,
   "metadata": {},
   "outputs": [],
   "source": [
    "def check_for_game_over():\n",
    "    \"\"\"Si todos los barcos son hundidos o nos quedamos sin balas, se acabó el juego\"\"\"\n",
    "    num_of_ships_sunk\n",
    "    num_of_ships\n",
    "    balas_rest\n",
    "    game_over\n",
    "\n",
    "    if num_of_ships == num_of_ships_sunk:\n",
    "        print(\"¡Has Ganado Figura!\")\n",
    "        game_over = True\n",
    "        \n",
    "    elif balas_rest <= 0:\n",
    "        print(\"¡Ohhhh, has perdido! Te has quedado sin balas, inténtalo de nuevo la próxima vez!\")\n",
    "        game_over = True"
   ]
  }
 ],
 "metadata": {
  "kernelspec": {
   "display_name": "Python 3",
   "language": "python",
   "name": "python3"
  },
  "language_info": {
   "codemirror_mode": {
    "name": "ipython",
    "version": 3
   },
   "file_extension": ".py",
   "mimetype": "text/x-python",
   "name": "python",
   "nbconvert_exporter": "python",
   "pygments_lexer": "ipython3",
   "version": "3.7.4"
  },
  "vscode": {
   "interpreter": {
    "hash": "aee8b7b246df8f9039afb4144a1f6fd8d2ca17a180786b69acc140d282b71a49"
   }
  }
 },
 "nbformat": 4,
 "nbformat_minor": 4
}
