{
 "cells": [
  {
   "cell_type": "code",
   "execution_count": 3,
   "metadata": {},
   "outputs": [],
   "source": [
    "import numpy as np\n",
    "\n",
    "def tableros(a,b):\n",
    "        tablero = np.full((a,b), \" \")\n",
    "        print(tablero)\n",
    "\n"
   ]
  },
  {
   "cell_type": "code",
   "execution_count": 4,
   "metadata": {},
   "outputs": [
    {
     "name": "stdout",
     "output_type": "stream",
     "text": [
      "[[' ' ' ' ' ' ' ' ' ' ' ' ' ' ' ' ' ' ' ']\n",
      " [' ' ' ' ' ' ' ' ' ' ' ' ' ' ' ' ' ' ' ']\n",
      " [' ' ' ' ' ' ' ' ' ' ' ' ' ' ' ' ' ' ' ']\n",
      " [' ' ' ' ' ' ' ' ' ' ' ' ' ' ' ' ' ' ' ']\n",
      " [' ' ' ' ' ' ' ' ' ' ' ' ' ' ' ' ' ' ' ']\n",
      " [' ' ' ' ' ' ' ' ' ' ' ' ' ' ' ' ' ' ' ']\n",
      " [' ' ' ' ' ' ' ' ' ' ' ' ' ' ' ' ' ' ' ']\n",
      " [' ' ' ' ' ' ' ' ' ' ' ' ' ' ' ' ' ' ' ']\n",
      " [' ' ' ' ' ' ' ' ' ' ' ' ' ' ' ' ' ' ' ']\n",
      " [' ' ' ' ' ' ' ' ' ' ' ' ' ' ' ' ' ' ' ']]\n"
     ]
    }
   ],
   "source": [
    "tableroimpactos_maquina = np.full((10,10), \" \")\n",
    "print(tableroimpactos_maquina)\n"
   ]
  },
  {
   "cell_type": "code",
   "execution_count": 5,
   "metadata": {},
   "outputs": [
    {
     "name": "stdout",
     "output_type": "stream",
     "text": [
      "[[' ' ' ' ' ' ' ' ' ' ' ' ' ' ' ' ' ' ' ']\n",
      " [' ' ' ' ' ' ' ' ' ' ' ' ' ' ' ' ' ' ' ']\n",
      " [' ' ' ' ' ' ' ' ' ' ' ' ' ' ' ' ' ' ' ']\n",
      " [' ' ' ' ' ' ' ' ' ' ' ' ' ' ' ' ' ' ' ']\n",
      " [' ' ' ' ' ' ' ' ' ' ' ' ' ' ' ' ' ' ' ']\n",
      " [' ' ' ' ' ' ' ' ' ' ' ' ' ' ' ' ' ' ' ']\n",
      " [' ' ' ' ' ' ' ' ' ' ' ' ' ' ' ' ' ' ' ']\n",
      " [' ' ' ' ' ' ' ' ' ' ' ' ' ' ' ' ' ' ' ']\n",
      " [' ' ' ' ' ' ' ' ' ' ' ' ' ' ' ' ' ' ' ']\n",
      " [' ' ' ' ' ' ' ' ' ' ' ' ' ' ' ' ' ' ' ']]\n"
     ]
    }
   ],
   "source": [
    "tableroimpactos_jugador = np.full((10,10), \" \")\n",
    "print(tableroimpactos_jugador)"
   ]
  },
  {
   "cell_type": "code",
   "execution_count": 6,
   "metadata": {},
   "outputs": [
    {
     "name": "stdout",
     "output_type": "stream",
     "text": [
      "[[' ' ' ' ' ' ' ' ' ' ' ' ' ' ' ' ' ' ' ']\n",
      " [' ' ' ' ' ' ' ' ' ' ' ' ' ' ' ' ' ' ' ']\n",
      " [' ' ' ' ' ' ' ' ' ' ' ' ' ' ' ' ' ' ' ']\n",
      " [' ' ' ' ' ' ' ' ' ' ' ' ' ' ' ' ' ' ' ']\n",
      " [' ' ' ' ' ' ' ' ' ' ' ' ' ' ' ' ' ' ' ']\n",
      " [' ' ' ' ' ' ' ' ' ' ' ' ' ' ' ' ' ' ' ']\n",
      " [' ' ' ' ' ' ' ' ' ' ' ' ' ' ' ' ' ' ' ']\n",
      " [' ' ' ' ' ' ' ' ' ' ' ' ' ' ' ' ' ' ' ']\n",
      " [' ' ' ' ' ' ' ' ' ' ' ' ' ' ' ' ' ' ' ']\n",
      " [' ' ' ' ' ' ' ' ' ' ' ' ' ' ' ' ' ' ' ']]\n"
     ]
    }
   ],
   "source": [
    "tablerobarcos_jugador = np.full((10,10), \" \")\n",
    "print(tablerobarcos_jugador)"
   ]
  },
  {
   "cell_type": "code",
   "execution_count": 7,
   "metadata": {},
   "outputs": [
    {
     "name": "stdout",
     "output_type": "stream",
     "text": [
      "[[' ' ' ' ' ' ' ' ' ' ' ' ' ' ' ' ' ' ' ']\n",
      " [' ' ' ' ' ' ' ' ' ' ' ' ' ' ' ' ' ' ' ']\n",
      " [' ' ' ' ' ' ' ' ' ' ' ' ' ' ' ' ' ' ' ']\n",
      " [' ' ' ' ' ' ' ' ' ' ' ' ' ' ' ' ' ' ' ']\n",
      " [' ' ' ' ' ' ' ' ' ' ' ' ' ' ' ' ' ' ' ']\n",
      " [' ' ' ' ' ' ' ' ' ' ' ' ' ' ' ' ' ' ' ']\n",
      " [' ' ' ' ' ' ' ' ' ' ' ' ' ' ' ' ' ' ' ']\n",
      " [' ' ' ' ' ' ' ' ' ' ' ' ' ' ' ' ' ' ' ']\n",
      " [' ' ' ' ' ' ' ' ' ' ' ' ' ' ' ' ' ' ' ']\n",
      " [' ' ' ' ' ' ' ' ' ' ' ' ' ' ' ' ' ' ' ']]\n"
     ]
    }
   ],
   "source": [
    "tablerobarcos_maquina = np.full((10,10), \" \")\n",
    "\n",
    "print(tablerobarcos_maquina)"
   ]
  },
  {
   "cell_type": "code",
   "execution_count": 8,
   "metadata": {},
   "outputs": [
    {
     "name": "stdout",
     "output_type": "stream",
     "text": [
      "[[' ' 'O' ' ' ' ' ' ' ' ' ' ' ' ' ' ' ' ']\n",
      " [' ' 'O' ' ' 'O' 'O' 'O' 'O' ' ' ' ' ' ']\n",
      " [' ' ' ' ' ' ' ' ' ' ' ' ' ' ' ' ' ' ' ']\n",
      " [' ' ' ' ' ' ' ' ' ' ' ' ' ' ' ' ' ' ' ']\n",
      " [' ' ' ' ' ' ' ' ' ' ' ' ' ' ' ' ' ' ' ']\n",
      " [' ' ' ' ' ' ' ' ' ' ' ' ' ' ' ' ' ' ' ']\n",
      " [' ' ' ' ' ' ' ' ' ' ' ' ' ' ' ' ' ' ' ']\n",
      " [' ' ' ' ' ' ' ' ' ' ' ' ' ' ' ' ' ' ' ']\n",
      " [' ' ' ' ' ' ' ' ' ' ' ' ' ' ' ' ' ' ' ']\n",
      " [' ' ' ' ' ' ' ' ' ' ' ' ' ' ' ' ' ' ' ']]\n"
     ]
    }
   ],
   "source": [
    "\n",
    "tablerobarcos_maquina[:2, [1]] = \"O\"\n",
    "tablerobarcos_maquina[[1], 3:7] = \"O\"\n",
    "print(tablerobarcos_maquina)"
   ]
  },
  {
   "cell_type": "code",
   "execution_count": 9,
   "metadata": {},
   "outputs": [
    {
     "name": "stdout",
     "output_type": "stream",
     "text": [
      "[[' ' ' ' ' ' ' ' 'O' ' ' ' ' ' ' ' ' ' ']\n",
      " [' ' ' ' ' ' ' ' 'O' ' ' ' ' ' ' ' ' ' ']\n",
      " [' ' ' ' ' ' ' ' ' ' ' ' ' ' ' ' ' ' ' ']\n",
      " [' ' ' ' ' ' ' ' ' ' ' ' ' ' ' ' ' ' ' ']\n",
      " [' ' ' ' ' ' 'O' 'O' 'O' 'O' ' ' ' ' ' ']\n",
      " [' ' ' ' ' ' ' ' ' ' ' ' ' ' ' ' ' ' ' ']\n",
      " [' ' ' ' ' ' ' ' ' ' ' ' ' ' ' ' ' ' ' ']\n",
      " [' ' ' ' ' ' ' ' ' ' ' ' ' ' ' ' ' ' ' ']\n",
      " [' ' ' ' ' ' ' ' ' ' ' ' ' ' ' ' ' ' ' ']\n",
      " [' ' ' ' ' ' ' ' ' ' ' ' ' ' ' ' ' ' ' ']]\n"
     ]
    }
   ],
   "source": [
    "tablerobarcos_jugador[:2, [4]] = \"O\"\n",
    "tablerobarcos_jugador[[4], 3:7] = \"O\"\n",
    "print(tablerobarcos_jugador)"
   ]
  },
  {
   "cell_type": "code",
   "execution_count": 56,
   "metadata": {},
   "outputs": [],
   "source": [
    "#Crear la funcion de juego de la maquina\n",
    "\n",
    "def coord_maquina():\n",
    "    coordenadas_maquina = tuple(np.random.randint(10, size=2))\n",
    "    return coordenadas_maquina\n",
    "\n",
    "def juegomaquina(coordenadas_maquina): \n",
    "    if tablerobarcos_jugador[coordenadas_maquina] == \"O\":\n",
    "        tablerobarcos_jugador[coordenadas_maquina] = \"X\"\n",
    "        tableroimpactos_jugador[coordenadas_maquina] = \"X\"\n",
    "        print(\"La maquina ha acertado!\")\n",
    "        print(tableroimpactos_jugador)\n",
    "        coordenadas_maquina = coord_maquina()\n",
    "\n",
    "    elif tablerobarcos_jugador[coordenadas_maquina] == \" \":\n",
    "        tablerobarcos_jugador[coordenadas_maquina] = \"-\"\n",
    "        tableroimpactos_jugador[coordenadas_maquina] = \"-\"\n",
    "        print (\"La maquina ha dado en agua!\")\n",
    "        print(tableroimpactos_jugador)\n",
    "        coorden = iniciarjuego()\n",
    "\n",
    "    elif tablerobarcos_jugador[coordenadas_maquina] == \"-\":\n",
    "        tablerobarcos_jugador[coordenadas_maquina] = \"-\"\n",
    "        tableroimpactos_jugador[coordenadas_maquina] = \"-\"\n",
    "        print (\"La maquina ha dado en agua!\")\n",
    "        print(tableroimpactos_jugador)\n",
    "        coorden = iniciarjuego()  \n",
    "    else:\n",
    "        print (\"Por favor introduce un numero valido!\")\n",
    "\n",
    "#Crear la funcion de juego que interactua con el jugador, especificando que hacer en cada uno de los 3 casos: \n",
    "\n",
    "def iniciarjuego():\n",
    "    coord1 = int(input(\"Introduce coordenadas por favor: \"))\n",
    "    coord2 = int(input(\"Introduce coordenadas por favor: \"))\n",
    "    coorden = tuple([coord1,coord2])\n",
    "    return coorden\n",
    "\n",
    "\n",
    "def turnojugador(coorden):\n",
    "    if tablerobarcos_maquina[coorden] == \"O\":\n",
    "        tablerobarcos_maquina[coorden] = \"X\"\n",
    "        tableroimpactos_maquina[coorden] = \"X\"\n",
    "        print(\"Haz acertado!\")\n",
    "        print(tableroimpactos_maquina)\n",
    "        coorden = iniciarjuego()\n",
    "\n",
    "    elif tablerobarcos_maquina[coorden] == \" \":\n",
    "        tablerobarcos_maquina[coorden] = \"-\"\n",
    "        tableroimpactos_maquina[coorden] = \"-\"\n",
    "        print (\"Haz dado en agua!\")\n",
    "        print(tableroimpactos_maquina)\n",
    "        coordenadas_maquina = coord_maquina()\n",
    "\n",
    "    elif tablerobarcos_maquina[coorden] == \"-\":\n",
    "        tablerobarcos_maquina[coorden] = \"-\"\n",
    "        tableroimpactos_maquina[coorden] = \"-\"\n",
    "        print (\"Haz vuelto a dar en agua!\")\n",
    "        print(tableroimpactos_maquina) \n",
    "        coordenadas_maquina = coord_maquina()  \n",
    "    else:\n",
    "        print (\"Por favor introduce un numero valido!\")\n",
    "        coorden = iniciarjuego()"
   ]
  },
  {
   "cell_type": "code",
   "execution_count": 57,
   "metadata": {},
   "outputs": [
    {
     "name": "stdout",
     "output_type": "stream",
     "text": [
      "(1, 4)\n",
      "Por favor introduce un numero valido!\n",
      "(7, 1)\n",
      "La maquina ha dado en agua!\n",
      "[[' ' ' ' ' ' ' ' ' ' ' ' ' ' ' ' ' ' ' ']\n",
      " [' ' ' ' ' ' ' ' 'X' ' ' ' ' ' ' '-' ' ']\n",
      " [' ' ' ' ' ' ' ' ' ' ' ' ' ' ' ' ' ' ' ']\n",
      " [' ' '-' ' ' ' ' ' ' ' ' ' ' ' ' ' ' ' ']\n",
      " [' ' ' ' ' ' ' ' 'X' ' ' ' ' ' ' ' ' ' ']\n",
      " [' ' ' ' ' ' ' ' ' ' ' ' ' ' ' ' ' ' ' ']\n",
      " [' ' ' ' ' ' ' ' ' ' ' ' ' ' ' ' ' ' ' ']\n",
      " [' ' '-' ' ' ' ' ' ' ' ' ' ' ' ' ' ' ' ']\n",
      " [' ' ' ' ' ' ' ' ' ' '-' ' ' ' ' ' ' ' ']\n",
      " [' ' ' ' ' ' ' ' ' ' ' ' ' ' ' ' ' ' ' ']]\n"
     ]
    }
   ],
   "source": [
    "#Iniciar el juego\n",
    "coorden = iniciarjuego()\n",
    "print(coorden)\n",
    "\n",
    "jugador1 = turnojugador(coorden)\n",
    "\n",
    "coordenadas_maquina = coord_maquina()\n",
    "print(coordenadas_maquina)\n",
    "turnomaquina = juegomaquina(coordenadas_maquina)"
   ]
  },
  {
   "cell_type": "code",
   "execution_count": 39,
   "metadata": {},
   "outputs": [],
   "source": [
    "#Crear la funcion de juego que interactua con el jugador, especificando que hacer en cada uno de los 3 casos: \n",
    "\n",
    "def iniciarjuego():\n",
    "    coord1 = int(input(\"Introduce coordenadas por favor: \"))\n",
    "    coord2 = int(input(\"Introduce coordenadas por favor: \"))\n",
    "    coorden = tuple([coord1,coord2])\n",
    "    return coorden\n",
    "\n",
    "\n",
    "def turnojugador(coorden):\n",
    "    if tablerobarcos_maquina[coorden] == \"O\":\n",
    "        tablerobarcos_maquina[coorden] = \"X\"\n",
    "        tableroimpactos_maquina[coorden] = \"X\"\n",
    "        print(\"Haz acertado!\")\n",
    "        print(tableroimpactos_maquina)\n",
    "        coorden = iniciarjuego()\n",
    "\n",
    "    elif tablerobarcos_maquina[coorden] == \" \":\n",
    "        tablerobarcos_maquina[coorden] = \"-\"\n",
    "        tableroimpactos_maquina[coorden] = \"-\"\n",
    "        print (\"Haz dado en agua!\")\n",
    "        print(tableroimpactos_maquina)\n",
    "        \n",
    "\n",
    "    elif tablerobarcos_maquina[coorden] == \"-\":\n",
    "        tablerobarcos_maquina[coorden] = \"-\"\n",
    "        tableroimpactos_maquina[coorden] = \"-\"\n",
    "        print (\"Haz vuelto a dar en agua!\")\n",
    "        print(tableroimpactos_maquina)   \n",
    "    else:\n",
    "        print (\"Por favor introduce un numero valido!\")\n",
    "        coorden = iniciarjuego()"
   ]
  }
 ],
 "metadata": {
  "kernelspec": {
   "display_name": "Python 3 (ipykernel)",
   "language": "python",
   "name": "python3"
  },
  "language_info": {
   "codemirror_mode": {
    "name": "ipython",
    "version": 3
   },
   "file_extension": ".py",
   "mimetype": "text/x-python",
   "name": "python",
   "nbconvert_exporter": "python",
   "pygments_lexer": "ipython3",
   "version": "3.7.4"
  },
  "vscode": {
   "interpreter": {
    "hash": "aee8b7b246df8f9039afb4144a1f6fd8d2ca17a180786b69acc140d282b71a49"
   }
  }
 },
 "nbformat": 4,
 "nbformat_minor": 2
}
