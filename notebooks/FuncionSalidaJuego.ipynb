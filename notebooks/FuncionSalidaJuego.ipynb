{
 "cells": [
  {
   "cell_type": "code",
   "execution_count": null,
   "metadata": {},
   "outputs": [],
   "source": [
    "'''\n",
    "Función de salida del Juego. Cuando todos los barcos hayan sido hundidos se termina el juego.\n",
    "'''\n",
    "\n",
    "def salir_del_juego(tablero_barcos_jugador, tablero_barcos_maquina):\n",
    "    \n",
    "    if \"O\" not in tablero_barcos_jugador:\n",
    "        print(\"Ohhh has perdido esta batalla...\")\n",
    "    elif \"O\" not in tablero_barcos_maquina:\n",
    "        print(\"¡Has Ganado!\")"
   ]
  }
 ],
 "metadata": {
  "kernelspec": {
   "display_name": "Python 3",
   "language": "python",
   "name": "python3"
  },
  "language_info": {
   "codemirror_mode": {
    "name": "ipython",
    "version": 3
   },
   "file_extension": ".py",
   "mimetype": "text/x-python",
   "name": "python",
   "nbconvert_exporter": "python",
   "pygments_lexer": "ipython3",
   "version": "3.7.4 (v3.7.4:e09359112e, Jul  8 2019, 14:54:52) \n[Clang 6.0 (clang-600.0.57)]"
  },
  "orig_nbformat": 4,
  "vscode": {
   "interpreter": {
    "hash": "aee8b7b246df8f9039afb4144a1f6fd8d2ca17a180786b69acc140d282b71a49"
   }
  }
 },
 "nbformat": 4,
 "nbformat_minor": 2
}
