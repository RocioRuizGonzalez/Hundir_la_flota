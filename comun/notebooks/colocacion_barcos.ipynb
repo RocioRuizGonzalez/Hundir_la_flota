{
 "cells": [
  {
   "cell_type": "code",
   "execution_count": 10,
   "id": "17fd8785",
   "metadata": {},
   "outputs": [],
   "source": [
    "'''\n",
    "Colocar barcos aleatoriamente\n",
    "'''\n",
    "def colocar_barco_aleatoriamente(tablero, tam):\n",
    "    posicion = nueva_posicion_barco()\n",
    "    cabe = comprobar_barco_cabe_en_tablero(tablero, posicion[0], posicion[1], posicion[2], tam)\n",
    "    if not cabe:\n",
    "        return False\n",
    "    else:\n",
    "        existe = comprobar_existe_barco(tablero, posicion[0], posicion[1], posicion[2], tam)\n",
    "        if existe:\n",
    "            return False\n",
    "        else:\n",
    "            colocar_barco(tablero, posicion[0], posicion[1], posicion[2], tam)\n",
    "    return True"
   ]
  },
  {
   "cell_type": "code",
   "execution_count": 11,
   "id": "8cb81636",
   "metadata": {},
   "outputs": [],
   "source": [
    "'''\n",
    "Posición aleatoria\n",
    "'''\n",
    "def nueva_posicion_barco():\n",
    "    fila = np.random.randint(0, 10)\n",
    "    columna = np.random.randint(0, 10)\n",
    "    orientacion = np.random.randint(0, 4)\n",
    "    coordenadas = {0:\"N\", 1:\"S\", 2: \"E\", 3:\"O\"}\n",
    "    return (fila, columna, coordenadas[orientacion])"
   ]
  },
  {
   "cell_type": "code",
   "execution_count": 12,
   "id": "32468e7e",
   "metadata": {},
   "outputs": [],
   "source": [
    "'''\n",
    "Comprobar barco aleatorio cabe en tablero\n",
    "'''\n",
    "def comprobar_barco_cabe_en_tablero(tablero, fila, columna, orientacion, tam):\n",
    "    if orientacion == \"E\":\n",
    "        return (columna + (tam-1)) <= (tablero.shape[1] - 1)\n",
    "    elif orientacion == \"O\":\n",
    "        return (columna - (tam-1)) >= 0\n",
    "    elif orientacion == \"N\":\n",
    "        return (fila - (tam-1)) >= 0\n",
    "    elif orientacion == \"S\":\n",
    "        return (fila + (tam-1)) <= (tablero.shape[0] - 1)"
   ]
  },
  {
   "cell_type": "code",
   "execution_count": 13,
   "id": "1b69168f",
   "metadata": {},
   "outputs": [],
   "source": [
    "'''\n",
    "Comprobar si existe barco\n",
    "'''\n",
    "def comprobar_existe_barco(tablero, fila, columna, orientacion, tam):\n",
    "    for i in range(tam):\n",
    "        if orientacion == \"E\":\n",
    "            if (tablero[fila, columna+i] == \"O\") | (tablero[fila, columna+i] == \"X\"):\n",
    "                return True\n",
    "        elif orientacion == \"O\":\n",
    "            if (tablero[fila, columna-i] == \"O\") | (tablero[fila, columna-i] == \"X\"):\n",
    "                return True\n",
    "        elif orientacion == \"N\":\n",
    "            if (tablero[fila-i, columna] == \"O\") | (tablero[fila-i, columna] == \"X\"):\n",
    "                return True\n",
    "        elif orientacion == \"S\":\n",
    "            if (tablero[fila+i, columna] == \"O\") | (tablero[fila+i, columna] == \"X\"):\n",
    "                return True\n",
    "    return False"
   ]
  },
  {
   "cell_type": "code",
   "execution_count": 14,
   "id": "21a6905a",
   "metadata": {},
   "outputs": [],
   "source": [
    "'''\n",
    "Colocar barcos aleatoriamente\n",
    "'''\n",
    "def colocar_barco(tablero, fila, columna, orientacion, tam):\n",
    "    for i in range(tam):\n",
    "        if orientacion == \"E\":\n",
    "            tablero[fila, columna+i] = \"O\"\n",
    "        elif orientacion == \"O\":\n",
    "            tablero[fila, columna-i] = \"O\"\n",
    "        elif orientacion == \"N\":\n",
    "            tablero[fila-i, columna] = \"O\"\n",
    "        elif orientacion == \"S\":\n",
    "            tablero[fila+i, columna] = \"O\""
   ]
  },
  {
   "cell_type": "code",
   "execution_count": 22,
   "id": "588fb3de",
   "metadata": {},
   "outputs": [],
   "source": [
    "import numpy as np"
   ]
  },
  {
   "cell_type": "code",
   "execution_count": 23,
   "id": "71d492df",
   "metadata": {},
   "outputs": [],
   "source": [
    "'''\n",
    "Eslora barcos + iniciar tablero\n",
    "'''\n",
    "def iniciar_tablero_con_barcos():\n",
    "    tablero=np.full((10,10), \" \")\n",
    "    barcos=[1,1,1,1,2,2,2,3,3,4]\n",
    "    i=0\n",
    "    while i<len(barcos):\n",
    "        exito = False\n",
    "        while not exito:\n",
    "            exito = colocar_barco_aleatoriamente(tablero,barcos[i])\n",
    "        i=i+1\n",
    "    return tablero"
   ]
  },
  {
   "cell_type": "code",
   "execution_count": 27,
   "id": "4e3b8017",
   "metadata": {},
   "outputs": [],
   "source": [
    "tablero_nuevo_1 = iniciar_tablero_con_barcos()\n",
    "tablero_nuevo_2 = iniciar_tablero_con_barcos()"
   ]
  },
  {
   "cell_type": "code",
   "execution_count": 28,
   "id": "afc9d1ea",
   "metadata": {},
   "outputs": [
    {
     "name": "stdout",
     "output_type": "stream",
     "text": [
      "[[' ' ' ' ' ' ' ' ' ' ' ' ' ' 'O' ' ' ' ']\n",
      " [' ' ' ' ' ' ' ' ' ' ' ' ' ' ' ' ' ' ' ']\n",
      " [' ' ' ' ' ' ' ' ' ' ' ' ' ' ' ' ' ' ' ']\n",
      " [' ' ' ' 'O' 'O' ' ' ' ' 'O' 'O' 'O' ' ']\n",
      " [' ' ' ' ' ' ' ' ' ' ' ' ' ' ' ' 'O' ' ']\n",
      " [' ' ' ' 'O' 'O' ' ' ' ' ' ' ' ' 'O' 'O']\n",
      " ['O' ' ' 'O' ' ' ' ' ' ' ' ' 'O' ' ' ' ']\n",
      " [' ' ' ' 'O' ' ' ' ' ' ' 'O' 'O' ' ' ' ']\n",
      " [' ' ' ' 'O' ' ' ' ' ' ' 'O' ' ' ' ' ' ']\n",
      " [' ' ' ' ' ' ' ' ' ' ' ' 'O' ' ' ' ' ' ']]\n"
     ]
    }
   ],
   "source": [
    "print(tablero_nuevo_1)"
   ]
  },
  {
   "cell_type": "code",
   "execution_count": 29,
   "id": "d922856d",
   "metadata": {},
   "outputs": [
    {
     "name": "stdout",
     "output_type": "stream",
     "text": [
      "[[' ' ' ' 'O' ' ' ' ' 'O' 'O' ' ' ' ' ' ']\n",
      " [' ' ' ' 'O' ' ' 'O' ' ' 'O' ' ' ' ' 'O']\n",
      " [' ' ' ' 'O' ' ' ' ' ' ' 'O' ' ' ' ' 'O']\n",
      " [' ' ' ' ' ' ' ' ' ' ' ' ' ' ' ' ' ' 'O']\n",
      " [' ' ' ' ' ' ' ' ' ' ' ' ' ' ' ' ' ' ' ']\n",
      " [' ' ' ' ' ' ' ' ' ' ' ' ' ' ' ' 'O' ' ']\n",
      " [' ' ' ' ' ' ' ' 'O' 'O' 'O' 'O' ' ' ' ']\n",
      " [' ' ' ' 'O' 'O' 'O' ' ' ' ' ' ' ' ' ' ']\n",
      " ['O' ' ' ' ' ' ' ' ' ' ' ' ' ' ' ' ' ' ']\n",
      " [' ' ' ' ' ' ' ' ' ' ' ' ' ' ' ' ' ' ' ']]\n"
     ]
    }
   ],
   "source": [
    "print(tablero_nuevo_2)"
   ]
  },
  {
   "cell_type": "code",
   "execution_count": null,
   "id": "0c62e501",
   "metadata": {},
   "outputs": [],
   "source": []
  }
 ],
 "metadata": {
  "kernelspec": {
   "display_name": "Python 3 (ipykernel)",
   "language": "python",
   "name": "python3"
  },
  "language_info": {
   "codemirror_mode": {
    "name": "ipython",
    "version": 3
   },
   "file_extension": ".py",
   "mimetype": "text/x-python",
   "name": "python",
   "nbconvert_exporter": "python",
   "pygments_lexer": "ipython3",
   "version": "3.7.4"
  }
 },
 "nbformat": 4,
 "nbformat_minor": 5
}
