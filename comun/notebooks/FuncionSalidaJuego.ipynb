{
 "cells": [
  {
   "cell_type": "code",
   "execution_count": null,
   "metadata": {},
   "outputs": [],
   "source": [
    "'''\n",
    "Función de salida del Juego. Cuando todos los barcos hayan sido hundidos se termina el juego.\n",
    "'''\n",
    "\n",
    "def salir_del_juego():\n",
    "    \n",
    "    if tablerobarcos_jugador != \"0\":\n",
    "        print(f\"Ohhh has perdido esta batalla {nombre_jugador}\")\n",
    "        game_over = True\n",
    "    elif tablerobarcos_maquina != \"0\":\n",
    "        print(f\"¡Has Ganado {nombre_jugador}!\")\n",
    "        game_over = True"
   ]
  }
 ],
 "metadata": {
  "kernelspec": {
   "display_name": "Python 3",
   "language": "python",
   "name": "python3"
  },
  "language_info": {
   "codemirror_mode": {
    "name": "ipython",
    "version": 3
   },
   "file_extension": ".py",
   "mimetype": "text/x-python",
   "name": "python",
   "nbconvert_exporter": "python",
   "pygments_lexer": "ipython3",
   "version": "3.7.4"
  },
  "orig_nbformat": 4,
  "vscode": {
   "interpreter": {
    "hash": "aee8b7b246df8f9039afb4144a1f6fd8d2ca17a180786b69acc140d282b71a49"
   }
  }
 },
 "nbformat": 4,
 "nbformat_minor": 2
}
