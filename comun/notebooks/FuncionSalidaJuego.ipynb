{
 "cells": [
  {
   "cell_type": "code",
   "execution_count": 5,
   "metadata": {},
   "outputs": [],
   "source": [
    "import time\n",
    "import pygame\n",
    "import numpy as np"
   ]
  },
  {
   "cell_type": "code",
   "execution_count": 6,
   "metadata": {},
   "outputs": [],
   "source": [
    "# Variable para el tablero\n",
    "tablero = [[]]\n",
    "\n",
    "# Variable  para el tamaño de la tablero\n",
    "tam = 10\n",
    "\n",
    "# Variable para el número de barcos a colocar\n",
    "barcos = 10\n",
    "\n",
    "# Variable para el fin de la partida\n",
    "game_over = True\n",
    "\n",
    "# Variable para número de barcos hundidos\n",
    "barcos_hundidos = 0\n",
    "\n",
    "# Variable para posiciones de los barcos\n",
    "posicion = [[]]\n",
    "\n",
    "# Variable para el alfabeto\n",
    "alfabeto = {\"A\" : 0, \"B\": 1, \"C\": 2, \"D\": 3, \"E\": 4, \"F\": 5, \"G\": 6, \"H\": 7, \"I\": 8, \"J\": 9} \n",
    "\n",
    "# Variable para salir/terminar el juego\n",
    "quit = #str(input('Presiona la tecla Q si desea salir o terminar el juego'))"
   ]
  },
  {
   "cell_type": "code",
   "execution_count": 7,
   "metadata": {},
   "outputs": [],
   "source": [
    "nombre_jugador = \"pepe\""
   ]
  },
  {
   "cell_type": "code",
   "execution_count": null,
   "metadata": {},
   "outputs": [],
   "source": [
    "'''\n",
    "Función que nos permitirá terminar el juego, o bien, salir de él si así lo deseamos\n",
    "'''\n",
    "\n",
    "quit = str(input('Presiona la tecla Q si desea salir o terminar el juego'))\n",
    "\n",
    "\n",
    "def check_for_game_over():\n",
    "    '''\n",
    "    Función de salida del Juego. Cuando todos los barcos hayan sido hundidos se termina el juego, o bien si pulsas la letra \"Q\" sales del juego tambien\n",
    "    '''\n",
    "    barcos_hundidos\n",
    "    barcos\n",
    "    game_over\n",
    "    quit \n",
    "    nombre_jugador\n",
    "\n",
    "if barcos == barcos_hundidos:\n",
    "        print(\"¡Has Ganado!\")\n",
    "        game_over = True\n",
    "        \n",
    "if quit:\n",
    "        \n",
    "    print(f\"Esto no es un adiós, es un...¡hasta la próxima, {nombre_jugador}!\")\n",
    "    exit()\n",
    "    # Se podría poner tambien QUIT, de la librería pygame"
   ]
  }
 ],
 "metadata": {
  "kernelspec": {
   "display_name": "Python 3",
   "language": "python",
   "name": "python3"
  },
  "language_info": {
   "codemirror_mode": {
    "name": "ipython",
    "version": 3
   },
   "file_extension": ".py",
   "mimetype": "text/x-python",
   "name": "python",
   "nbconvert_exporter": "python",
   "pygments_lexer": "ipython3",
   "version": "3.7.4"
  },
  "orig_nbformat": 4,
  "vscode": {
   "interpreter": {
    "hash": "aee8b7b246df8f9039afb4144a1f6fd8d2ca17a180786b69acc140d282b71a49"
   }
  }
 },
 "nbformat": 4,
 "nbformat_minor": 2
}
