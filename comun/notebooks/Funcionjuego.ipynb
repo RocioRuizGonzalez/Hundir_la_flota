{
 "cells": [
  {
   "cell_type": "code",
   "execution_count": 16,
   "metadata": {},
   "outputs": [],
   "source": [
    "import numpy as np\n",
    "\n",
    "def tableros(a,b):\n",
    "        tablero = np.full((a,b), \" \")\n",
    "        print(tablero)\n",
    "\n"
   ]
  },
  {
   "cell_type": "code",
   "execution_count": 17,
   "metadata": {},
   "outputs": [
    {
     "name": "stdout",
     "output_type": "stream",
     "text": [
      "[[' ' ' ' ' ' ' ' ' ' ' ' ' ' ' ' ' ' ' ']\n",
      " [' ' ' ' ' ' ' ' ' ' ' ' ' ' ' ' ' ' ' ']\n",
      " [' ' ' ' ' ' ' ' ' ' ' ' ' ' ' ' ' ' ' ']\n",
      " [' ' ' ' ' ' ' ' ' ' ' ' ' ' ' ' ' ' ' ']\n",
      " [' ' ' ' ' ' ' ' ' ' ' ' ' ' ' ' ' ' ' ']\n",
      " [' ' ' ' ' ' ' ' ' ' ' ' ' ' ' ' ' ' ' ']\n",
      " [' ' ' ' ' ' ' ' ' ' ' ' ' ' ' ' ' ' ' ']\n",
      " [' ' ' ' ' ' ' ' ' ' ' ' ' ' ' ' ' ' ' ']\n",
      " [' ' ' ' ' ' ' ' ' ' ' ' ' ' ' ' ' ' ' ']\n",
      " [' ' ' ' ' ' ' ' ' ' ' ' ' ' ' ' ' ' ' ']]\n"
     ]
    }
   ],
   "source": [
    "tableroimpactos_maquina = np.full((10,10), \" \")\n",
    "print(tableroimpactos_maquina)\n"
   ]
  },
  {
   "cell_type": "code",
   "execution_count": 18,
   "metadata": {},
   "outputs": [
    {
     "name": "stdout",
     "output_type": "stream",
     "text": [
      "[[' ' ' ' ' ' ' ' ' ' ' ' ' ' ' ' ' ' ' ']\n",
      " [' ' ' ' ' ' ' ' ' ' ' ' ' ' ' ' ' ' ' ']\n",
      " [' ' ' ' ' ' ' ' ' ' ' ' ' ' ' ' ' ' ' ']\n",
      " [' ' ' ' ' ' ' ' ' ' ' ' ' ' ' ' ' ' ' ']\n",
      " [' ' ' ' ' ' ' ' ' ' ' ' ' ' ' ' ' ' ' ']\n",
      " [' ' ' ' ' ' ' ' ' ' ' ' ' ' ' ' ' ' ' ']\n",
      " [' ' ' ' ' ' ' ' ' ' ' ' ' ' ' ' ' ' ' ']\n",
      " [' ' ' ' ' ' ' ' ' ' ' ' ' ' ' ' ' ' ' ']\n",
      " [' ' ' ' ' ' ' ' ' ' ' ' ' ' ' ' ' ' ' ']\n",
      " [' ' ' ' ' ' ' ' ' ' ' ' ' ' ' ' ' ' ' ']]\n"
     ]
    }
   ],
   "source": [
    "tableroimpactos_jugador = np.full((10,10), \" \")\n",
    "print(tableroimpactos_jugador)"
   ]
  },
  {
   "cell_type": "code",
   "execution_count": 19,
   "metadata": {},
   "outputs": [
    {
     "name": "stdout",
     "output_type": "stream",
     "text": [
      "[[' ' ' ' ' ' ' ' ' ' ' ' ' ' ' ' ' ' ' ']\n",
      " [' ' ' ' ' ' ' ' ' ' ' ' ' ' ' ' ' ' ' ']\n",
      " [' ' ' ' ' ' ' ' ' ' ' ' ' ' ' ' ' ' ' ']\n",
      " [' ' ' ' ' ' ' ' ' ' ' ' ' ' ' ' ' ' ' ']\n",
      " [' ' ' ' ' ' ' ' ' ' ' ' ' ' ' ' ' ' ' ']\n",
      " [' ' ' ' ' ' ' ' ' ' ' ' ' ' ' ' ' ' ' ']\n",
      " [' ' ' ' ' ' ' ' ' ' ' ' ' ' ' ' ' ' ' ']\n",
      " [' ' ' ' ' ' ' ' ' ' ' ' ' ' ' ' ' ' ' ']\n",
      " [' ' ' ' ' ' ' ' ' ' ' ' ' ' ' ' ' ' ' ']\n",
      " [' ' ' ' ' ' ' ' ' ' ' ' ' ' ' ' ' ' ' ']]\n"
     ]
    }
   ],
   "source": [
    "tablerobarcos_jugador = np.full((10,10), \" \")\n",
    "print(tablerobarcos_jugador)"
   ]
  },
  {
   "cell_type": "code",
   "execution_count": 20,
   "metadata": {},
   "outputs": [
    {
     "name": "stdout",
     "output_type": "stream",
     "text": [
      "[[' ' ' ' ' ' ' ' ' ' ' ' ' ' ' ' ' ' ' ']\n",
      " [' ' ' ' ' ' ' ' ' ' ' ' ' ' ' ' ' ' ' ']\n",
      " [' ' ' ' ' ' ' ' ' ' ' ' ' ' ' ' ' ' ' ']\n",
      " [' ' ' ' ' ' ' ' ' ' ' ' ' ' ' ' ' ' ' ']\n",
      " [' ' ' ' ' ' ' ' ' ' ' ' ' ' ' ' ' ' ' ']\n",
      " [' ' ' ' ' ' ' ' ' ' ' ' ' ' ' ' ' ' ' ']\n",
      " [' ' ' ' ' ' ' ' ' ' ' ' ' ' ' ' ' ' ' ']\n",
      " [' ' ' ' ' ' ' ' ' ' ' ' ' ' ' ' ' ' ' ']\n",
      " [' ' ' ' ' ' ' ' ' ' ' ' ' ' ' ' ' ' ' ']\n",
      " [' ' ' ' ' ' ' ' ' ' ' ' ' ' ' ' ' ' ' ']]\n"
     ]
    }
   ],
   "source": [
    "tablerobarcos_maquina = np.full((10,10), \" \")\n",
    "\n",
    "print(tablerobarcos_maquina)"
   ]
  },
  {
   "cell_type": "code",
   "execution_count": 21,
   "metadata": {},
   "outputs": [
    {
     "name": "stdout",
     "output_type": "stream",
     "text": [
      "[[' ' 'O' ' ' ' ' ' ' ' ' ' ' ' ' ' ' ' ']\n",
      " [' ' 'O' ' ' 'O' 'O' 'O' 'O' ' ' ' ' ' ']\n",
      " [' ' ' ' ' ' ' ' ' ' ' ' ' ' ' ' ' ' ' ']\n",
      " [' ' ' ' ' ' ' ' ' ' ' ' ' ' ' ' ' ' ' ']\n",
      " [' ' ' ' ' ' ' ' ' ' ' ' ' ' ' ' ' ' ' ']\n",
      " [' ' ' ' ' ' ' ' ' ' ' ' ' ' ' ' ' ' ' ']\n",
      " [' ' ' ' ' ' ' ' ' ' ' ' ' ' ' ' ' ' ' ']\n",
      " [' ' ' ' ' ' ' ' ' ' ' ' ' ' ' ' ' ' ' ']\n",
      " [' ' ' ' ' ' ' ' ' ' ' ' ' ' ' ' ' ' ' ']\n",
      " [' ' ' ' ' ' ' ' ' ' ' ' ' ' ' ' ' ' ' ']]\n"
     ]
    }
   ],
   "source": [
    "\n",
    "tablerobarcos_maquina[:2, [1]] = \"O\"\n",
    "tablerobarcos_maquina[[1], 3:7] = \"O\"\n",
    "print(tablerobarcos_maquina)"
   ]
  },
  {
   "cell_type": "code",
   "execution_count": 22,
   "metadata": {},
   "outputs": [
    {
     "name": "stdout",
     "output_type": "stream",
     "text": [
      "[[' ' ' ' ' ' ' ' 'O' ' ' ' ' ' ' ' ' ' ']\n",
      " [' ' ' ' ' ' ' ' 'O' ' ' ' ' ' ' ' ' ' ']\n",
      " [' ' ' ' ' ' ' ' ' ' ' ' ' ' ' ' ' ' ' ']\n",
      " [' ' ' ' ' ' ' ' ' ' ' ' ' ' ' ' ' ' ' ']\n",
      " [' ' ' ' ' ' 'O' 'O' 'O' 'O' ' ' ' ' ' ']\n",
      " [' ' ' ' ' ' ' ' ' ' ' ' ' ' ' ' ' ' ' ']\n",
      " [' ' ' ' ' ' ' ' ' ' ' ' ' ' ' ' ' ' ' ']\n",
      " [' ' ' ' ' ' ' ' ' ' ' ' ' ' ' ' ' ' ' ']\n",
      " [' ' ' ' ' ' ' ' ' ' ' ' ' ' ' ' ' ' ' ']\n",
      " [' ' ' ' ' ' ' ' ' ' ' ' ' ' ' ' ' ' ' ']]\n"
     ]
    }
   ],
   "source": [
    "tablerobarcos_jugador[:2, [4]] = \"O\"\n",
    "tablerobarcos_jugador[[4], 3:7] = \"O\"\n",
    "print(tablerobarcos_jugador)"
   ]
  },
  {
   "cell_type": "code",
   "execution_count": 27,
   "metadata": {},
   "outputs": [],
   "source": [
    "#Crear la funcion de juego que interactua con el jugador, especificando que hacer en cada uno de los 3 casos: \n",
    "#Importamos las librerias necesarias para ejecutar\n",
    "import time\n",
    "import pygame\n",
    "import numpy as np\n",
    "\n",
    "#Iniciamos el mixer de pygame y asignamos los sonidos a variables\n",
    "pygame.mixer.init()\n",
    "impacto = pygame.mixer.Sound(\"explosion.wav\")\n",
    "agua = pygame.mixer.Sound(\"watersplash.wav\")\n",
    "salir = pygame.mixer.Sound(\"goodbye.wav\")\n",
    "\n",
    "def turnojugador():\n",
    "    #Establece la condición de seguir ejecutando el bucle mientras hayan barcos en el tablero de ambos jugadores\n",
    "    while \"O\" in tablerobarcos_maquina and \"O\" in tablerobarcos_jugador: \n",
    "\n",
    "        coord1 =(input(\"Introduce coordenadas 1 por favor: \"))\n",
    "        # Try and except que introduce la posibilidad de salir del juego con cualquier otra tecla que no sea int\n",
    "        try:\n",
    "            coord1 = int(coord1)\n",
    "        except Exception:\n",
    "            print(\"Cerrando juego...\")\n",
    "            time.sleep(2)\n",
    "            salir.play()\n",
    "            print(\"Goodbye\")\n",
    "            break\n",
    "       #Se asegura de que el número introducido esté en el rango \n",
    "        if coord1 < 0 or coord1 > 9:\n",
    "            print(\"Introduce un número valido por favor\")\n",
    "            continue\n",
    "\n",
    "        coord2 =(input(\"Introduce coordenada 2 por favor, : \"))\n",
    "        try:\n",
    "            coord2 = int(coord2)\n",
    "        except Exception:\n",
    "            print(\"Cerrando juego...\")\n",
    "            time.sleep(2)\n",
    "            salir.play()\n",
    "            print(\"Goodbye\")\n",
    "            break\n",
    "        if coord2 < 0 or coord2 > 9:\n",
    "            print(\"Introduce un número valido por favor\")\n",
    "            continue\n",
    "        \n",
    "        coorden =tuple([(coord1),(coord2)])\n",
    "        #Bucle que comprueba la posición de la coordenada introducida\n",
    "        if tablerobarcos_maquina[coorden] == \"O\":\n",
    "            tablerobarcos_maquina[coorden] = \"X\"\n",
    "            tableroimpactos_maquina[coorden] = \"X\"\n",
    "            print(\"Has acertado!\")\n",
    "            impacto.play()\n",
    "            time.sleep(2)\n",
    "            print(tableroimpactos_maquina)\n",
    "            continue\n",
    "\n",
    "        elif tablerobarcos_maquina[coorden] == \"-\":\n",
    "            tablerobarcos_maquina[coorden] = \"-\"\n",
    "            tableroimpactos_maquina[coorden] = \"-\"\n",
    "            print (\"Has vuelto a dar en agua!\")\n",
    "            agua.play()\n",
    "            time.sleep(2)\n",
    "            print(tableroimpactos_maquina)\n",
    "            juegomaquina()\n",
    "        \n",
    "        elif tablerobarcos_maquina[coorden] == \" \":\n",
    "            tablerobarcos_maquina[coorden] = \"-\"\n",
    "            tableroimpactos_maquina[coorden] = \"-\"\n",
    "            print (\"Has dado en agua!\")\n",
    "            agua.play()\n",
    "            time.sleep(2)\n",
    "            print(tableroimpactos_maquina)\n",
    "            juegomaquina()\n",
    "       \n",
    "    #Bucle que define el comportamiento de no haber barcos en algunos de los dos tableros: \n",
    "    if \"O\" not in tablerobarcos_jugador:\n",
    "        print(\"Lo siento! Has perdido la partida\")\n",
    "\n",
    "    elif \"O\" not in tablerobarcos_maquina:\n",
    "        print(\"Enhorabuena! Has ganado la partida\")\n",
    "\n",
    "\n",
    "#Crear la funcion de juego de la maquina\n",
    "\n",
    "\n",
    "def juegomaquina(): \n",
    "    while \"O\" in tablerobarcos_maquina and \"O\" in tablerobarcos_jugador: \n",
    "        #Genera coordenadas aleatorias para los disparos de la maquina\n",
    "        coordenadas_maquina = tuple(np.random.randint(10, size=2))\n",
    "\n",
    "        #Establece la condición de seguir ejecutando el bucle mientras hayan barcos en el tablero de ambos jugadores\n",
    "        if tablerobarcos_jugador[coordenadas_maquina] == \"O\":\n",
    "            tablerobarcos_jugador[coordenadas_maquina] = \"X\"\n",
    "            tableroimpactos_jugador[coordenadas_maquina] = \"X\"\n",
    "            time.sleep(1)\n",
    "            print(\"La maquina ha acertado!\")\n",
    "            impacto.play()\n",
    "            time.sleep(2)\n",
    "            print(tableroimpactos_jugador)\n",
    "            continue\n",
    "\n",
    "        elif tablerobarcos_jugador[coordenadas_maquina] == \" \":\n",
    "            tablerobarcos_jugador[coordenadas_maquina] = \"-\"\n",
    "            tableroimpactos_jugador[coordenadas_maquina] = \"-\"\n",
    "            time.sleep(1)\n",
    "            print (\"La maquina ha dado en agua!\")\n",
    "            agua.play()\n",
    "            time.sleep(2)\n",
    "            print(tableroimpactos_jugador)\n",
    "            turnojugador()\n",
    "            \n",
    "\n",
    "        elif tablerobarcos_jugador[coordenadas_maquina] == \"-\":\n",
    "            tablerobarcos_jugador[coordenadas_maquina] = \"-\"\n",
    "            tableroimpactos_jugador[coordenadas_maquina] = \"-\"\n",
    "            time.sleep(1)\n",
    "            print (\"La maquina ha dado en agua!\")\n",
    "            agua.play()\n",
    "            time.sleep(2)\n",
    "            print(tableroimpactos_jugador)\n",
    "            turnojugador()\n",
    "        else:\n",
    "            break\n",
    "    #Bucle que define el comportamiento de no haber barcos en algunos de los dos tableros:     \n",
    "    if \"O\" not in tablerobarcos_jugador:\n",
    "        print(\"Lo siento! Has perdido la partida\")\n",
    "\n",
    "    elif \"O\" not in tablerobarcos_maquina:\n",
    "        print(\"Enhorabuena! Has ganado la partida\")\n",
    "\n",
    "\n",
    "\n"
   ]
  },
  {
   "cell_type": "code",
   "execution_count": 25,
   "metadata": {},
   "outputs": [
    {
     "name": "stdout",
     "output_type": "stream",
     "text": [
      "Introduce un número valido por favor\n",
      "Has acertado!\n",
      "[[' ' ' ' ' ' ' ' ' ' ' ' ' ' ' ' ' ' ' ']\n",
      " [' ' ' ' ' ' 'X' ' ' ' ' ' ' ' ' ' ' ' ']\n",
      " [' ' ' ' ' ' ' ' ' ' ' ' ' ' ' ' ' ' ' ']\n",
      " [' ' ' ' ' ' ' ' ' ' ' ' ' ' ' ' ' ' ' ']\n",
      " [' ' ' ' ' ' ' ' ' ' ' ' ' ' ' ' ' ' ' ']\n",
      " [' ' ' ' ' ' ' ' ' ' ' ' ' ' ' ' ' ' ' ']\n",
      " [' ' ' ' ' ' ' ' ' ' ' ' ' ' ' ' ' ' ' ']\n",
      " [' ' ' ' ' ' ' ' ' ' ' ' ' ' ' ' ' ' ' ']\n",
      " [' ' ' ' ' ' ' ' ' ' ' ' ' ' ' ' ' ' ' ']\n",
      " [' ' ' ' ' ' ' ' ' ' ' ' ' ' ' ' ' ' ' ']]\n",
      "Cerrando juego...\n",
      "Goodbye\n"
     ]
    }
   ],
   "source": [
    "#Iniciar el juego\n",
    "turnojugador()\n",
    "\n"
   ]
  },
  {
   "cell_type": "code",
   "execution_count": null,
   "metadata": {},
   "outputs": [],
   "source": []
  }
 ],
 "metadata": {
  "kernelspec": {
   "display_name": "Python 3.10.7 64-bit",
   "language": "python",
   "name": "python3"
  },
  "language_info": {
   "codemirror_mode": {
    "name": "ipython",
    "version": 3
   },
   "file_extension": ".py",
   "mimetype": "text/x-python",
   "name": "python",
   "nbconvert_exporter": "python",
   "pygments_lexer": "ipython3",
   "version": "3.10.7"
  },
  "orig_nbformat": 4,
  "vscode": {
   "interpreter": {
    "hash": "aee8b7b246df8f9039afb4144a1f6fd8d2ca17a180786b69acc140d282b71a49"
   }
  }
 },
 "nbformat": 4,
 "nbformat_minor": 2
}
