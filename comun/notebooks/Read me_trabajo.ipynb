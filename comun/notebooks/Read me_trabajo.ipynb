{
 "cells": [
  {
   "cell_type": "markdown",
   "id": "d2435e39",
   "metadata": {},
   "source": [
    "# Hundir la flota"
   ]
  },
  {
   "cell_type": "markdown",
   "id": "d7681ad2",
   "metadata": {},
   "source": [
    "## Descripción"
   ]
  },
  {
   "cell_type": "markdown",
   "id": "cde36ff9",
   "metadata": {},
   "source": [
    "Juego desarrollado en 4 scripts: bienvenida, colocación_barcos, Funciónjuego, Leyenda_&_variables a través de lenguaje python. "
   ]
  },
  {
   "cell_type": "markdown",
   "id": "9263816b",
   "metadata": {},
   "source": [
    "### Desarrollo"
   ]
  },
  {
   "cell_type": "markdown",
   "id": "467d8832",
   "metadata": {},
   "source": [
    "Para iniciar el programa de juego hemos creado una bienvenida donde se saluda al usuario (jugador) y le presenta a su contrincante (la máquina-Popeye). "
   ]
  },
  {
   "cell_type": "markdown",
   "id": "87943e50",
   "metadata": {},
   "source": [
    "A continuación hemos creado cuatro tableros, 2 con la función **tableros** (para tableros vacíos donde se van a ir reflejando los impactos) y otros 2 tableros con la función **iniciar_tablero_con_barcos** donde se colocarán los barcos de forma aleatoria (del jugador y de la máquina). "
   ]
  },
  {
   "cell_type": "markdown",
   "id": "729dd34d",
   "metadata": {},
   "source": [
    "Una vez que ya tenemos los barcos colocados en los tableros, iniciamos el juego con la función **iniciarjuego**. Aquí el jugador debe de ir introduciendo unas coordenadas de número y letra que serán los disparos en el tablero. "
   ]
  },
  {
   "cell_type": "markdown",
   "id": "4fc5b846",
   "metadata": {},
   "source": [
    "Con la función **turnojugador** si  las coordenadas coincide con una parte de alguno de los barcos colocados aleatoriamente, se introducirá un simbolo *X*. En caso contrario, si lo que toca es agua, el simbolo que aparecerá será *-*. "
   ]
  },
  {
   "cell_type": "markdown",
   "id": "6630d3e6",
   "metadata": {},
   "source": [
    "Si el jugador toca alguna de las partes del barco, repite turno, en caso contrario, es el turno de la máquina a través de la función **turnomaquina**"
   ]
  },
  {
   "cell_type": "markdown",
   "id": "2073e237",
   "metadata": {},
   "source": [
    "El juego termina cuando el jugador toca todos los barcos de la máquina o bien cuando la máquina toca todos los barcos del jugador. También puede terminar si el jugador voluntariamente decide aplicar la función **salida**."
   ]
  },
  {
   "cell_type": "markdown",
   "id": "e5be1ed1",
   "metadata": {},
   "source": [
    "#### Librerías usadas"
   ]
  },
  {
   "cell_type": "markdown",
   "id": "eab26434",
   "metadata": {},
   "source": [
    "* Numpy\n",
    "* Random\n",
    "* Time"
   ]
  },
  {
   "cell_type": "markdown",
   "id": "b47ae6f7",
   "metadata": {},
   "source": [
    "#### Autores"
   ]
  },
  {
   "cell_type": "markdown",
   "id": "9758584f",
   "metadata": {},
   "source": [
    "* Génesis Rojas\n",
    "* Javier López\n",
    "* Antonio Ambrosio\n",
    "* Rocío Ruiz"
   ]
  },
  {
   "cell_type": "code",
   "execution_count": null,
   "id": "f6e2d7b1",
   "metadata": {},
   "outputs": [],
   "source": []
  }
 ],
 "metadata": {
  "kernelspec": {
   "display_name": "Python 3 (ipykernel)",
   "language": "python",
   "name": "python3"
  },
  "language_info": {
   "codemirror_mode": {
    "name": "ipython",
    "version": 3
   },
   "file_extension": ".py",
   "mimetype": "text/x-python",
   "name": "python",
   "nbconvert_exporter": "python",
   "pygments_lexer": "ipython3",
   "version": "3.7.4"
  }
 },
 "nbformat": 4,
 "nbformat_minor": 5
}
