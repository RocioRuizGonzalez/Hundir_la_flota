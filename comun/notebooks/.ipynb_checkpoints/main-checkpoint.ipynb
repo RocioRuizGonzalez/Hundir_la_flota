{
 "cells": [
  {
   "cell_type": "code",
   "execution_count": 53,
   "id": "586584d9",
   "metadata": {},
   "outputs": [],
   "source": [
    "import numpy as np\n",
    "#añadir time"
   ]
  },
  {
   "cell_type": "markdown",
   "id": "f82a3b65",
   "metadata": {},
   "source": [
    "Leyenda:\n",
    "1. \" \" = agua o espacio vacío\n",
    "2. \"O\" = parte del barco\n",
    "3. \"X\" = parte del barco que le ha dado una bala\n",
    "4. \"-\" = agua que recibió un disparo de bala, fallando porque no le ha dado a ningún barco"
   ]
  },
  {
   "cell_type": "code",
   "execution_count": 54,
   "id": "d6034d71",
   "metadata": {},
   "outputs": [],
   "source": [
    "# Variable para el tablero\n",
    "tablero = [[]]\n",
    "\n",
    "# Variable  para el tamaño de la tablero\n",
    "tam = 10\n",
    "\n",
    "# Variable para el número de barcos a colocar\n",
    "barcos = 10\n",
    "\n",
    "# Variable para el fin de la partida\n",
    "game_over = True\n",
    "\n",
    "# Variable para número de barcos hundidos\n",
    "barcos_hundidos = 0\n",
    "\n",
    "# Variable para posiciones de los barcos\n",
    "posicion = [[]]\n",
    "\n",
    "# Variable para el alfabeto\n",
    "alfabeto = {\"A\" : 0, \"B\": 1, \"C\": 2, \"D\": 3, \"E\": 4, \"F\": 5, \"G\": 6, \"H\": 7, \"I\": 8, \"J\": 9} "
   ]
  },
  {
   "cell_type": "code",
   "execution_count": 55,
   "id": "886efbb6",
   "metadata": {},
   "outputs": [
    {
     "name": "stdout",
     "output_type": "stream",
     "text": [
      "Bienvenido al juego de Hundir la flota\n",
      "Introduce tu nombre: genesis\n",
      "Tu oponente es Popeye\n",
      "Empieza la partida ¡Que gane el mejor!\n"
     ]
    }
   ],
   "source": [
    "'''\n",
    "Función de bienvenida al juego, que presenta a los jugadores \n",
    "'''\n",
    "print(\"Bienvenido al juego de Hundir la flota\")\n",
    "\n",
    "nombre_jugador = input(\"Introduce tu nombre: \")\n",
    "\n",
    "oponente = \"Tu oponente es Popeye\"\n",
    "\n",
    "print(oponente)\n",
    "\n",
    "print(\"Empieza la partida ¡Que gane el mejor!\")"
   ]
  },
  {
   "cell_type": "code",
   "execution_count": 56,
   "id": "d2a564e9",
   "metadata": {},
   "outputs": [],
   "source": [
    "'''\n",
    "Generación de tableros\n",
    "'''\n",
    "def tableros(a,b):\n",
    "        tablero = tuple(np.full((a,b), \" \"))\n",
    "        print(tablero)"
   ]
  },
  {
   "cell_type": "code",
   "execution_count": 57,
   "id": "0eba62b0",
   "metadata": {},
   "outputs": [
    {
     "name": "stdout",
     "output_type": "stream",
     "text": [
      "[[' ' ' ' ' ' ' ' ' ' ' ' ' ' ' ' ' ' ' ']\n",
      " [' ' ' ' ' ' ' ' ' ' ' ' ' ' ' ' ' ' ' ']\n",
      " [' ' ' ' ' ' ' ' ' ' ' ' ' ' ' ' ' ' ' ']\n",
      " [' ' ' ' ' ' ' ' ' ' ' ' ' ' ' ' ' ' ' ']\n",
      " [' ' ' ' ' ' ' ' ' ' ' ' ' ' ' ' ' ' ' ']\n",
      " [' ' ' ' ' ' ' ' ' ' ' ' ' ' ' ' ' ' ' ']\n",
      " [' ' ' ' ' ' ' ' ' ' ' ' ' ' ' ' ' ' ' ']\n",
      " [' ' ' ' ' ' ' ' ' ' ' ' ' ' ' ' ' ' ' ']\n",
      " [' ' ' ' ' ' ' ' ' ' ' ' ' ' ' ' ' ' ' ']\n",
      " [' ' ' ' ' ' ' ' ' ' ' ' ' ' ' ' ' ' ' ']]\n"
     ]
    }
   ],
   "source": [
    "tablero_impactos_maquina = np.full((10,10), \" \")\n",
    "print(tablero_impactos_maquina)"
   ]
  },
  {
   "cell_type": "code",
   "execution_count": 58,
   "id": "6ea3f7a5",
   "metadata": {},
   "outputs": [
    {
     "name": "stdout",
     "output_type": "stream",
     "text": [
      "[[' ' ' ' ' ' ' ' ' ' ' ' ' ' ' ' ' ' ' ']\n",
      " [' ' ' ' ' ' ' ' ' ' ' ' ' ' ' ' ' ' ' ']\n",
      " [' ' ' ' ' ' ' ' ' ' ' ' ' ' ' ' ' ' ' ']\n",
      " [' ' ' ' ' ' ' ' ' ' ' ' ' ' ' ' ' ' ' ']\n",
      " [' ' ' ' ' ' ' ' ' ' ' ' ' ' ' ' ' ' ' ']\n",
      " [' ' ' ' ' ' ' ' ' ' ' ' ' ' ' ' ' ' ' ']\n",
      " [' ' ' ' ' ' ' ' ' ' ' ' ' ' ' ' ' ' ' ']\n",
      " [' ' ' ' ' ' ' ' ' ' ' ' ' ' ' ' ' ' ' ']\n",
      " [' ' ' ' ' ' ' ' ' ' ' ' ' ' ' ' ' ' ' ']\n",
      " [' ' ' ' ' ' ' ' ' ' ' ' ' ' ' ' ' ' ' ']]\n"
     ]
    }
   ],
   "source": [
    "tablero_impactos_jugador = np.full((10,10), \" \")\n",
    "print(tablero_impactos_jugador)"
   ]
  },
  {
   "cell_type": "code",
   "execution_count": 59,
   "id": "d96d2eeb",
   "metadata": {},
   "outputs": [],
   "source": [
    "'''\n",
    "Generación de tableros con barcos aleatorios\n",
    "'''\n",
    "def iniciar_tablero_con_barcos():\n",
    "    tablero=np.full((10,10), \" \")\n",
    "    barcos=[1,1,1,1,2,2,2,3,3,4]\n",
    "    i=0\n",
    "    while i<len(barcos):\n",
    "        exito = False\n",
    "        while not exito:\n",
    "            exito = colocar_barco_aleatoriamente(tablero,barcos[i])\n",
    "        i=i+1\n",
    "    return tablero"
   ]
  },
  {
   "cell_type": "code",
   "execution_count": 60,
   "id": "fb52e2b6",
   "metadata": {},
   "outputs": [],
   "source": [
    "'''\n",
    "Colocar barcos aleatoriamente\n",
    "'''\n",
    "def colocar_barco_aleatoriamente(tablero, tam):\n",
    "    posicion = nueva_posicion_barco()\n",
    "    cabe = comprobar_barco_cabe_en_tablero(tablero, posicion[0], posicion[1], posicion[2], tam)\n",
    "    if not cabe:\n",
    "        return False\n",
    "    else:\n",
    "        existe = comprobar_existe_barco(tablero, posicion[0], posicion[1], posicion[2], tam)\n",
    "        if existe:\n",
    "            return False\n",
    "        else:\n",
    "            colocar_barco(tablero, posicion[0], posicion[1], posicion[2], tam)\n",
    "    return True"
   ]
  },
  {
   "cell_type": "code",
   "execution_count": 61,
   "id": "3cdbe972",
   "metadata": {},
   "outputs": [],
   "source": [
    "'''\n",
    "Posición aleatoria\n",
    "'''\n",
    "def nueva_posicion_barco():\n",
    "    fila = np.random.randint(0, 10)\n",
    "    columna = np.random.randint(0, 10)\n",
    "    orientacion = np.random.randint(0, 4)\n",
    "    coordenadas = {0:\"N\", 1:\"S\", 2: \"E\", 3:\"O\"}\n",
    "    return (fila, columna, coordenadas[orientacion])"
   ]
  },
  {
   "cell_type": "code",
   "execution_count": 62,
   "id": "eae06aab",
   "metadata": {},
   "outputs": [],
   "source": [
    "'''\n",
    "Comprobar barco aleatorio cabe en tablero\n",
    "'''\n",
    "def comprobar_barco_cabe_en_tablero(tablero, fila, columna, orientacion, tam):\n",
    "    if orientacion == \"E\":\n",
    "        return (columna + (tam-1)) <= (tablero.shape[1] - 1)\n",
    "    elif orientacion == \"O\":\n",
    "        return (columna - (tam-1)) >= 0\n",
    "    elif orientacion == \"N\":\n",
    "        return (fila - (tam-1)) >= 0\n",
    "    elif orientacion == \"S\":\n",
    "        return (fila + (tam-1)) <= (tablero.shape[0] - 1)"
   ]
  },
  {
   "cell_type": "code",
   "execution_count": 63,
   "id": "39ff88bc",
   "metadata": {},
   "outputs": [],
   "source": [
    "'''\n",
    "Comprobar si existe barco\n",
    "'''\n",
    "def comprobar_existe_barco(tablero, fila, columna, orientacion, tam):\n",
    "    for i in range(tam):\n",
    "        if orientacion == \"E\":\n",
    "            if (tablero[fila, columna+i] == \"O\") | (tablero[fila, columna+i] == \"X\"):\n",
    "                return True\n",
    "        elif orientacion == \"O\":\n",
    "            if (tablero[fila, columna-i] == \"O\") | (tablero[fila, columna-i] == \"X\"):\n",
    "                return True\n",
    "        elif orientacion == \"N\":\n",
    "            if (tablero[fila-i, columna] == \"O\") | (tablero[fila-i, columna] == \"X\"):\n",
    "                return True\n",
    "        elif orientacion == \"S\":\n",
    "            if (tablero[fila+i, columna] == \"O\") | (tablero[fila+i, columna] == \"X\"):\n",
    "                return True\n",
    "    return False"
   ]
  },
  {
   "cell_type": "code",
   "execution_count": 64,
   "id": "6b6a9f92",
   "metadata": {},
   "outputs": [],
   "source": [
    "'''\n",
    "Colocar barcos aleatoriamente\n",
    "'''\n",
    "def colocar_barco(tablero, fila, columna, orientacion, tam):\n",
    "    for i in range(tam):\n",
    "        if orientacion == \"E\":\n",
    "            tablero[fila, columna+i] = \"O\"\n",
    "        elif orientacion == \"O\":\n",
    "            tablero[fila, columna-i] = \"O\"\n",
    "        elif orientacion == \"N\":\n",
    "            tablero[fila-i, columna] = \"O\"\n",
    "        elif orientacion == \"S\":\n",
    "            tablero[fila+i, columna] = \"O\""
   ]
  },
  {
   "cell_type": "code",
   "execution_count": 65,
   "id": "0769c116",
   "metadata": {},
   "outputs": [
    {
     "name": "stdout",
     "output_type": "stream",
     "text": [
      "[[' ' ' ' ' ' ' ' ' ' ' ' ' ' ' ' ' ' ' ']\n",
      " ['O' 'O' 'O' ' ' ' ' 'O' ' ' ' ' ' ' 'O']\n",
      " [' ' ' ' ' ' ' ' ' ' 'O' ' ' ' ' ' ' ' ']\n",
      " [' ' ' ' ' ' ' ' ' ' 'O' ' ' ' ' ' ' ' ']\n",
      " ['O' 'O' 'O' 'O' ' ' ' ' 'O' 'O' 'O' 'O']\n",
      " [' ' ' ' ' ' ' ' ' ' ' ' 'O' ' ' ' ' ' ']\n",
      " [' ' ' ' ' ' ' ' 'O' ' ' ' ' ' ' ' ' ' ']\n",
      " [' ' 'O' ' ' ' ' ' ' ' ' ' ' ' ' ' ' ' ']\n",
      " [' ' ' ' ' ' 'O' 'O' ' ' ' ' ' ' ' ' ' ']\n",
      " [' ' ' ' ' ' ' ' ' ' ' ' ' ' ' ' ' ' ' ']] \n",
      "\n",
      "\n",
      "\n",
      " [[' ' ' ' ' ' ' ' ' ' ' ' ' ' 'O' ' ' ' ']\n",
      " [' ' 'O' ' ' ' ' ' ' ' ' ' ' ' ' ' ' 'O']\n",
      " [' ' 'O' ' ' ' ' ' ' 'O' ' ' ' ' ' ' 'O']\n",
      " [' ' 'O' 'O' ' ' ' ' ' ' ' ' 'O' ' ' 'O']\n",
      " [' ' ' ' 'O' 'O' ' ' ' ' ' ' ' ' ' ' 'O']\n",
      " [' ' ' ' ' ' ' ' ' ' ' ' ' ' 'O' ' ' ' ']\n",
      " [' ' ' ' ' ' ' ' ' ' ' ' ' ' 'O' ' ' ' ']\n",
      " ['O' ' ' ' ' ' ' ' ' ' ' ' ' 'O' ' ' ' ']\n",
      " ['O' ' ' 'O' 'O' ' ' ' ' ' ' ' ' ' ' ' ']\n",
      " [' ' ' ' ' ' ' ' ' ' ' ' ' ' ' ' ' ' ' ']]\n"
     ]
    }
   ],
   "source": [
    "tablero_barcos_maquina = iniciar_tablero_con_barcos()\n",
    "tablero_barcos_jugador = iniciar_tablero_con_barcos()\n",
    "print(tablero_barcos_maquina, \"\\n\" \"\\n\" \"\\n\" \"\\n\", tablero_barcos_jugador) \n",
    "# añadir función display"
   ]
  },
  {
   "cell_type": "code",
   "execution_count": 66,
   "id": "787b9470",
   "metadata": {},
   "outputs": [],
   "source": [
    "'''\n",
    "Inicio partida\n",
    "'''\n",
    "def coord_maquina():\n",
    "    coordenadas_maquina = tuple(np.random.randint(10, size=2))\n",
    "    return coordenadas_maquina\n",
    "\n",
    "def juegomaquina(coordenadas_maquina): \n",
    "    if tablero_barcos_jugador[coordenadas_maquina] == \"O\":\n",
    "        tablero_barcos_jugador[coordenadas_maquina] = \"X\"\n",
    "        tablero_impactos_jugador[coordenadas_maquina] = \"X\"\n",
    "        print(\"La maquina ha acertado!\")\n",
    "        print(tableroimpactos_jugador)\n",
    "        coordenadas_maquina = coord_maquina()\n",
    "\n",
    "    elif tablero_barcos_jugador[coordenadas_maquina] == \" \":\n",
    "        tablero_barcos_jugador[coordenadas_maquina] = \"-\"\n",
    "        tablero_impactos_jugador[coordenadas_maquina] = \"-\"\n",
    "        print (\"La maquina ha dado en agua!\")\n",
    "        print(tablero_impactos_jugador)\n",
    "        coorden = iniciarjuego()\n",
    "\n",
    "    elif tablero_barcos_jugador[coordenadas_maquina] == \"-\":\n",
    "        tablero_barcos_jugador[coordenadas_maquina] = \"-\"\n",
    "        tablero_impactos_jugador[coordenadas_maquina] = \"-\"\n",
    "        print (\"La maquina ha dado en agua!\")\n",
    "        print(tablero_impactos_jugador)\n",
    "        coorden = iniciarjuego()  \n",
    "    else:\n",
    "        print (\"Por favor introduce un numero valido!\")"
   ]
  },
  {
   "cell_type": "code",
   "execution_count": 67,
   "id": "bd1e8362",
   "metadata": {},
   "outputs": [],
   "source": [
    "\n",
    "'''\n",
    "Creación función de juego que interactua con el jugador, especificando que hacer en cada uno de los 3 casos: \n",
    "'''\n",
    "\n",
    "def iniciarjuego():\n",
    "    coord1 = int(input(\"Introduce número, por favor: \"))\n",
    "    coord2 = int(input(\"Introduce letra, por favor: \"))\n",
    "    coorden = tuple([coord1,coord2])\n",
    "    return coorden\n",
    "#meter diccionario alfabeto\n",
    "#añadir time\n",
    "\n",
    "\n",
    "def turnojugador(coorden):\n",
    "    if tablero_barcos_maquina[coorden] == \"O\":\n",
    "        tablero_barcos_maquina[coorden] = \"X\"\n",
    "        tablero_impactos_maquina[coorden] = \"X\"\n",
    "        print(\"Haz acertado!\")\n",
    "        print(tablero_impactos_maquina)\n",
    "        coorden = iniciarjuego()\n",
    "\n",
    "    elif tablero_barcos_maquina[coorden] == \" \":\n",
    "        tablero_barcos_maquina[coorden] = \"-\"\n",
    "        tablero_impactos_maquina[coorden] = \"-\"\n",
    "        print (\"Haz dado en agua!\")\n",
    "        print(tablero_impactos_maquina)\n",
    "        coordenadas_maquina = coord_maquina()\n",
    "\n",
    "    elif tablero_barcos_maquina[coorden] == \"-\":\n",
    "        tablero_barcos_maquina[coorden] = \"-\"\n",
    "        tablero_impactos_maquina[coorden] = \"-\"\n",
    "        print (\"Haz vuelto a dar en agua!\")\n",
    "        print(tablero_impactos_maquina) \n",
    "        coordenadas_maquina = coord_maquina()  \n",
    "    else:\n",
    "        print (\"Por favor introduce un numero valido!\")\n",
    "        coorden = iniciarjuego()"
   ]
  },
  {
   "cell_type": "code",
   "execution_count": 68,
   "id": "1f064fc9",
   "metadata": {},
   "outputs": [],
   "source": [
    "'''\n",
    "Creación de la funcion de juego que interactuará con el jugador, especificando que hacer en cada uno de los 3 casos\n",
    "'''\n",
    "\n",
    "\n",
    "def iniciarjuego():\n",
    "    coord1 = int(input(\"Introduce coordenada 1 por favor: \"))\n",
    "    coord2 = int(input(\"Introduce coordenada 2 por favor: \"))\n",
    "    coorden = tuple([coord1,coord2])\n",
    "    return coorden\n",
    "\n",
    "\n",
    "def turnojugador(coorden):\n",
    "    if tablero_barcos_maquina[coorden] == \"O\":\n",
    "        tablero_barcos_maquina[coorden] = \"X\"\n",
    "        tablero_impactos_maquina[coorden] = \"X\"\n",
    "        print(\"Haz acertado!\")\n",
    "        print(tablero_impactos_maquina)\n",
    "        coorden = iniciarjuego()\n",
    "\n",
    "    elif tablero_barcos_maquina[coorden] == \" \":\n",
    "        tablero_barcos_maquina[coorden] = \"-\"\n",
    "        tablero_impactos_maquina[coorden] = \"-\"\n",
    "        print (\"Haz dado en agua!\")\n",
    "        print(tablero_impactos_maquina)\n",
    "        \n",
    "\n",
    "    elif tablero_barcos_maquina[coorden] == \"-\":\n",
    "        tablero_barcos_maquina[coorden] = \"-\"\n",
    "        tablero_impactos_maquina[coorden] = \"-\"\n",
    "        print (\"Haz vuelto a dar en agua!\")\n",
    "        print(tablero_impactos_maquina)   \n",
    "    else:\n",
    "        print (\"Por favor introduce un numero valido!\")\n",
    "        coorden = iniciarjuego()"
   ]
  },
  {
   "cell_type": "code",
   "execution_count": 71,
   "id": "61e6d164",
   "metadata": {},
   "outputs": [
    {
     "name": "stdout",
     "output_type": "stream",
     "text": [
      "Introduce coordenada 1 por favor: 1\n",
      "Introduce coordenada 2 por favor: 4\n",
      "(1, 4)\n",
      "Haz dado en agua!\n",
      "[[' ' ' ' ' ' ' ' ' ' ' ' ' ' ' ' ' ' ' ']\n",
      " [' ' ' ' ' ' ' ' '-' ' ' ' ' ' ' ' ' ' ']\n",
      " [' ' ' ' ' ' ' ' ' ' ' ' ' ' ' ' ' ' ' ']\n",
      " [' ' ' ' ' ' ' ' ' ' ' ' '-' ' ' ' ' ' ']\n",
      " [' ' ' ' ' ' ' ' ' ' ' ' ' ' ' ' ' ' ' ']\n",
      " [' ' ' ' ' ' ' ' ' ' ' ' ' ' ' ' ' ' ' ']\n",
      " [' ' ' ' ' ' '-' ' ' ' ' ' ' ' ' ' ' ' ']\n",
      " [' ' ' ' ' ' ' ' ' ' ' ' ' ' ' ' ' ' ' ']\n",
      " [' ' ' ' ' ' ' ' ' ' ' ' ' ' ' ' ' ' ' ']\n",
      " [' ' ' ' ' ' ' ' ' ' ' ' ' ' ' ' ' ' ' ']]\n",
      "(8, 0)\n",
      "La maquina ha acertado!\n",
      "[[' ' ' ' ' ' ' ' ' ' ' ' ' ' ' ' ' ' ' ']\n",
      " [' ' ' ' ' ' ' ' ' ' ' ' ' ' ' ' ' ' ' ']\n",
      " [' ' ' ' ' ' ' ' ' ' ' ' ' ' ' ' ' ' ' ']\n",
      " [' ' ' ' ' ' ' ' ' ' ' ' ' ' ' ' ' ' ' ']\n",
      " [' ' ' ' ' ' ' ' ' ' ' ' ' ' ' ' ' ' ' ']\n",
      " [' ' ' ' ' ' ' ' ' ' ' ' ' ' ' ' ' ' ' ']\n",
      " [' ' ' ' ' ' ' ' ' ' ' ' ' ' ' ' ' ' ' ']\n",
      " [' ' ' ' ' ' ' ' ' ' ' ' ' ' ' ' ' ' ' ']\n",
      " [' ' ' ' ' ' ' ' ' ' ' ' ' ' ' ' ' ' ' ']\n",
      " [' ' ' ' ' ' ' ' ' ' ' ' ' ' ' ' ' ' ' ']]\n"
     ]
    }
   ],
   "source": [
    "'''\n",
    "Iniciación del juego\n",
    "'''\n",
    "\n",
    "coorden = iniciarjuego()\n",
    "print(coorden)\n",
    "\n",
    "jugador1 = turnojugador(coorden)\n",
    "\n",
    "coordenadas_maquina = coord_maquina()\n",
    "print(coordenadas_maquina)\n",
    "turnomaquina = juegomaquina(coordenadas_maquina)"
   ]
  },
  {
   "cell_type": "code",
   "execution_count": null,
   "id": "5540f684",
   "metadata": {},
   "outputs": [],
   "source": [
    "'''\n",
    "Función salida\n",
    "'''\n",
    "def check_for_game_over():\n",
    "    \"\"\"Si todos los barcos son hundidos o nos quedamos sin balas, se acabó el juego\"\"\"\n",
    "    barcos_hundidos\n",
    "    barcos\n",
    "    game_over\n",
    "\n",
    "    if barcos == barcos_hundidos:\n",
    "        print(\"¡Has Ganado Figura!\")\n",
    "        game_over = True\n",
    " #añadir q para salir\n"
   ]
  }
 ],
 "metadata": {
  "kernelspec": {
   "display_name": "Python 3 (ipykernel)",
   "language": "python",
   "name": "python3"
  },
  "language_info": {
   "codemirror_mode": {
    "name": "ipython",
    "version": 3
   },
   "file_extension": ".py",
   "mimetype": "text/x-python",
   "name": "python",
   "nbconvert_exporter": "python",
   "pygments_lexer": "ipython3",
   "version": "3.7.4"
  }
 },
 "nbformat": 4,
 "nbformat_minor": 5
}
