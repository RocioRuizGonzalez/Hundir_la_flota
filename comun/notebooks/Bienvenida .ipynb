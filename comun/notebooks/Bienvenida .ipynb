{
 "cells": [
  {
   "cell_type": "code",
   "execution_count": 4,
   "id": "1832f516",
   "metadata": {},
   "outputs": [
    {
     "name": "stdout",
     "output_type": "stream",
     "text": [
      "Bienvenido al juego de Hundir la flota\n",
      "Introduce tu nombre: Maria\n",
      "Tu oponente es Popeye\n",
      "Empieza la partida ¡Que gane el mejor!\n"
     ]
    }
   ],
   "source": [
    "print(\"Bienvenido al juego de Hundir la flota\")\n",
    "\n",
    "nombre_jugador = input(\"Introduce tu nombre: \")\n",
    "\n",
    "oponente = \"Tu oponente es Popeye\"\n",
    "\n",
    "print(oponente)\n",
    "\n",
    "print(\"Empieza la partida ¡Que gane el mejor!\")"
   ]
  }
 ],
 "metadata": {
  "kernelspec": {
   "display_name": "Python 3.7.4 64-bit",
   "language": "python",
   "name": "python3"
  },
  "language_info": {
   "codemirror_mode": {
    "name": "ipython",
    "version": 3
   },
   "file_extension": ".py",
   "mimetype": "text/x-python",
   "name": "python",
   "nbconvert_exporter": "python",
   "pygments_lexer": "ipython3",
   "version": "3.7.4"
  },
  "vscode": {
   "interpreter": {
    "hash": "14374c167b9d94b221ba82ad6ca64b6a438b64cfd78be01f83f58990cbda8a04"
   }
  }
 },
 "nbformat": 4,
 "nbformat_minor": 5
}
