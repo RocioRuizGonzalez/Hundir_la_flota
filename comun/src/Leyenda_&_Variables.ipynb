{
 "cells": [
  {
   "cell_type": "markdown",
   "metadata": {},
   "source": [
    "## LEYENDA"
   ]
  },
  {
   "cell_type": "markdown",
   "metadata": {},
   "source": [
    "Leyenda:\n",
    "1. \".\" = agua o espacio vacío\n",
    "2. \"O\" = parte del barco\n",
    "3. \"X\" = parte del barco que le ha dado una bala\n",
    "4. \"#\" = agua que recibió un disparo de bala, fallando porque no le ha dado a ningún barco"
   ]
  },
  {
   "cell_type": "markdown",
   "metadata": {},
   "source": [
    "## VARIABLES \"GLOBALES\""
   ]
  },
  {
   "cell_type": "code",
   "execution_count": null,
   "metadata": {},
   "outputs": [],
   "source": [
    "# Variable para el tablero\n",
    "tablero = [[]]\n",
    "\n",
    "# Variable  para el tamaño de la tablero\n",
    "tam_tablero = 10\n",
    "\n",
    "# Variable para el número de barcos a colocar\n",
    "num_of_ships = 2\n",
    "\n",
    "# Variable para balas restantes\n",
    "balas_rest = 50\n",
    "\n",
    "# Variable para el fin de la partida\n",
    "game_over = False\n",
    "\n",
    "# Variable para número de barcos hundidos\n",
    "num_of_ships_sunk = 0\n",
    "\n",
    "# Variable para posiciones de los barcos\n",
    "pos_of_ships = [[]]\n",
    "\n",
    "# Variable para el alfabeto\n",
    "alphabet = \"ABCDEFGHIJKLMNOPQRSTUVWXYZ\""
   ]
  }
 ],
 "metadata": {
  "kernelspec": {
   "display_name": "Python 3",
   "language": "python",
   "name": "python3"
  },
  "language_info": {
   "name": "python",
   "version": "3.7.4 (v3.7.4:e09359112e, Jul  8 2019, 14:54:52) \n[Clang 6.0 (clang-600.0.57)]"
  },
  "orig_nbformat": 4,
  "vscode": {
   "interpreter": {
    "hash": "aee8b7b246df8f9039afb4144a1f6fd8d2ca17a180786b69acc140d282b71a49"
   }
  }
 },
 "nbformat": 4,
 "nbformat_minor": 2
}
